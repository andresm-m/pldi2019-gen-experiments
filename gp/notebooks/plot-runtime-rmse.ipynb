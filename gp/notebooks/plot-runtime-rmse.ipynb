{
 "cells": [
  {
   "cell_type": "code",
   "execution_count": 1,
   "metadata": {},
   "outputs": [],
   "source": [
    "%matplotlib inline"
   ]
  },
  {
   "cell_type": "code",
   "execution_count": 2,
   "metadata": {},
   "outputs": [],
   "source": [
    "import matplotlib.pyplot as plt\n",
    "import numpy as np\n",
    "from scipy.stats.mstats import gmean"
   ]
  },
  {
   "cell_type": "code",
   "execution_count": 3,
   "metadata": {},
   "outputs": [
    {
     "name": "stderr",
     "output_type": "stream",
     "text": [
      "/usr/lib/python2.7/dist-packages/matplotlib/__init__.py:1352: UserWarning:  This call to matplotlib.use() has no effect\n",
      "because the backend has already been chosen;\n",
      "matplotlib.use() must be called *before* pylab, matplotlib.pyplot,\n",
      "or matplotlib.backends is imported for the first time.\n",
      "\n",
      "  warnings.warn(_use_error_msg)\n"
     ]
    }
   ],
   "source": [
    "import sys; sys.path.insert(0, '../')\n",
    "from gp_inspection import extract_metric_evolution\n",
    "from gp_experiments import rescale_linear"
   ]
  },
  {
   "cell_type": "code",
   "execution_count": 4,
   "metadata": {},
   "outputs": [],
   "source": [
    "paths = [\n",
    "    ('Venture'           , '../resources/reports/stamp@20181102-155157_shortname@vs-euHdZTNmNT_ntest@20_iters@5_epochs@200_schedule@constant_seed@1387012777.merged.report.csv'),\n",
    "    ('Gen (naive)'       , '../resources/reports/stamp@20181109-132239_shortname@lightweight-pZadKE_ntest@20_iters@5_epochs@400_schedule@constant_seed@2840552220.merged.report.csv'),\n",
    "    ('Gen (incremental)' , '../resources/reports/stamp@20181109-125618_shortname@incremental-mIzAK_ntest@20_iters@5_epochs@400_schedule@constant_seed@3567539547.merged.report.csv'),\n",
    "    ('Handcoded (naive)' , '../resources/reports/stamp@20181104-143323_shortname@handcoded-iZaMk_ntest@20_iters@5_epochs@400_schedule@constant_seed@1788702245.merged.report.csv'),\n",
    "]"
   ]
  },
  {
   "cell_type": "code",
   "execution_count": 5,
   "metadata": {},
   "outputs": [],
   "source": [
    "def plot_evolution_one(runtimes, metrics, label, color, ax):\n",
    "    runtimes = runtimes[1:]\n",
    "    metrics = metrics[1:]\n",
    "    #  Some filtering.\n",
    "    # keep = np.argsort(metrics[-1,:])[:-10]\n",
    "    # metrics = metrics[:, keep]\n",
    "    # runtimes = runtimes[:,keep]\n",
    "    #  Computing metrics to plot.\n",
    "    x_runtime = np.cumsum(np.median(runtimes, axis=1))\n",
    "    y_metric_median = np.mean(metrics, axis=1)\n",
    "    y_metric_high = np.percentile(metrics, 75, axis=1)\n",
    "    y_metric_low = np.percentile(metrics, 25, axis=1)\n",
    "    # XXX A bit of hackery.\n",
    "    if label == 'Gen (naive)':\n",
    "        x_runtime = x_runtime[:-100]\n",
    "        y_metric_median = y_metric_median[:-100]\n",
    "    # Plot.\n",
    "    ax.errorbar(x_runtime[::10], y_metric_median[::10],\n",
    "        # yerr=[y_metric_median-y_metric_low, y_metric_high-y_metric_median],\n",
    "        fmt='--.', \n",
    "        label=label, color=color)\n",
    "    return ax"
   ]
  },
  {
   "cell_type": "code",
   "execution_count": 6,
   "metadata": {},
   "outputs": [],
   "source": [
    "metric = 'rmse'"
   ]
  },
  {
   "cell_type": "code",
   "execution_count": 7,
   "metadata": {},
   "outputs": [],
   "source": [
    "import matplotlib\n",
    "matplotlib.rcParams['text.usetex'] = True\n",
    "matplotlib.rcParams['font.family'] = 'sans-serif'"
   ]
  },
  {
   "cell_type": "markdown",
   "metadata": {},
   "source": [
    "Plot runtime vs. accuracy"
   ]
  },
  {
   "cell_type": "code",
   "execution_count": 8,
   "metadata": {},
   "outputs": [
    {
     "name": "stderr",
     "output_type": "stream",
     "text": [
      "/usr/lib/python2.7/dist-packages/matplotlib/figure.py:1744: UserWarning: This figure includes Axes that are not compatible with tight_layout, so its results might be incorrect.\n",
      "  warnings.warn(\"This figure includes Axes that are not \"\n"
     ]
    },
    {
     "data": {
      "image/png": "[encoded data removed]",
      "text/plain": [
       "<matplotlib.figure.Figure at 0x7fa3f150b710>"
      ]
     },
     "metadata": {},
     "output_type": "display_data"
    }
   ],
   "source": [
    "fig, ax = plt.subplots()\n",
    "colors = ['c', 'g', 'k', 'r']\n",
    "for i, (method, path) in enumerate(paths):\n",
    "    runtimes, metrics = extract_metric_evolution(path, 'runtime', metric)\n",
    "    ax = plot_evolution_one(runtimes, metrics, method, colors[i], ax)\n",
    "\n",
    "# ax.set_title('Runtime vs. Accuracy on Airline Data', fontsize=13)\n",
    "ax.set_ylabel('Mean Prediction Error', fontsize=12)\n",
    "ax.set_xlabel('Runtime (seconds)', fontsize=12)\n",
    "ax.legend(loc='upper right', framealpha=0)\n",
    "ax.grid(which='both', linestyle='-', linewidth=1, color='gray', alpha=.2)\n",
    "ax.set_xscale('log')\n",
    "ax.set_xlim([2*10**-1, 10**3])\n",
    "ax.set_ylim([0.2, None])\n",
    "fig.set_facecolor('white')\n",
    "fig.set_tight_layout(True)\n",
    "fig.set_size_inches(4, 3)"
   ]
  },
  {
   "cell_type": "code",
   "execution_count": 9,
   "metadata": {},
   "outputs": [],
   "source": [
    "fig.savefig('airline-gen-venturescript-runtime-rmse.pdf')"
   ]
  },
  {
   "cell_type": "markdown",
   "metadata": {},
   "source": [
    "Plot observed and forecasted data"
   ]
  },
  {
   "cell_type": "code",
   "execution_count": 10,
   "metadata": {},
   "outputs": [],
   "source": [
    "import json\n",
    "from gp_experiments import rescale_linear\n",
    "from gp_experiments import unscale_linear"
   ]
  },
  {
   "cell_type": "code",
   "execution_count": 11,
   "metadata": {},
   "outputs": [],
   "source": [
    "fname = '../resources/results/stamp@20181102-155414_shortname@vs-euHdMzVkOW_ntest@20_iters@5_epochs@200_schedule@constant_seed@725158738.json'\n",
    "with open(fname, 'r') as f:\n",
    "    results = json.load(f)"
   ]
  },
  {
   "cell_type": "code",
   "execution_count": 12,
   "metadata": {},
   "outputs": [],
   "source": [
    "predictions = results['statistics'][-1]['predictions_held_out']"
   ]
  },
  {
   "cell_type": "code",
   "execution_count": 13,
   "metadata": {},
   "outputs": [],
   "source": [
    "(x_min, y_min) = (1.949041666666666742e+03, 1.12e+02)\n",
    "(x_max, y_max) = (1.960958333333333258e+03,4.32e+02)"
   ]
  },
  {
   "cell_type": "code",
   "execution_count": 14,
   "metadata": {},
   "outputs": [],
   "source": [
    "xs_train = unscale_linear(np.array(results['xs_train']), 0, 1, x_min, x_max)\n",
    "ys_train = unscale_linear(np.array(results['ys_train']), -1, 1, y_min, y_max)\n",
    "xs_test = unscale_linear(np.array(results['xs_test']), 0, 1, x_min, x_max)\n",
    "ys_test = unscale_linear(np.array(results['ys_test']), -1, 1, y_min, y_max)\n",
    "predictions = unscale_linear(np.array(predictions), -1, 1, y_min, y_max)"
   ]
  },
  {
   "cell_type": "code",
   "execution_count": 15,
   "metadata": {},
   "outputs": [
    {
     "data": {
      "image/png": "[encoded data removed]",
      "text/plain": [
       "<matplotlib.figure.Figure at 0x7fa3ed412b50>"
      ]
     },
     "metadata": {},
     "output_type": "display_data"
    }
   ],
   "source": [
    "fig, ax = plt.subplots()\n",
    "ax.plot(xs_train, ys_train, marker='.', linestyle='--', color='k', label='Observed Data')\n",
    "for p in predictions:\n",
    "    ax.plot(xs_test, p, linestyle='-', color='g', alpha=.025)\n",
    "ax.plot([], [], color='g', label='Predictions')\n",
    "ax.scatter(xs_test, ys_test, marker='+', color='r', s=30, label='Held-out Data')\n",
    "ax.legend(framealpha=0, loc='upper left')\n",
    "ax.set_xlabel('Year', fontsize=12)\n",
    "ax.set_ylabel('Passenger Volume', fontsize=12)\n",
    "# ax.set_title('Airline Dataset', fontsize=13)\n",
    "ax.set_xlim([1947.5, None])\n",
    "fig.set_tight_layout(True)\n",
    "fig.set_size_inches(4, 3)"
   ]
  },
  {
   "cell_type": "code",
   "execution_count": 16,
   "metadata": {},
   "outputs": [],
   "source": [
    "fig.savefig('airline-raw-data.pdf')"
   ]
  },
  {
   "cell_type": "code",
   "execution_count": 17,
   "metadata": {},
   "outputs": [],
   "source": [
    "def report_runtime(runtimes, method):\n",
    "    runtimes = runtimes[1:]\n",
    "    runtimes_total = np.cumsum(runtimes, axis=0)\n",
    "    median = np.median(runtimes_total, axis=1)[-1]\n",
    "    upper = np.percentile(runtimes_total, 25, axis=1)[-1]\n",
    "    lower = np.percentile(runtimes_total, 75, axis=1)[-1]\n",
    "    error = np.mean([abs(median-upper), abs(median-lower)])\n",
    "    with open('gp-runtime', 'a') as f:\n",
    "        print>>f, '%s: %1.2f (+- %1.2f)' % (method, median/2, error/2)"
   ]
  },
  {
   "cell_type": "code",
   "execution_count": 18,
   "metadata": {},
   "outputs": [],
   "source": [
    "!rm -f gp-runtime && touch gp-runtime\n",
    "for method, path in paths:\n",
    "    runtimes, metrics = extract_metric_evolution(path, 'runtime', metric)\n",
    "    report_runtime(runtimes, method)"
   ]
  },
  {
   "cell_type": "code",
   "execution_count": 19,
   "metadata": {},
   "outputs": [],
   "source": [
    "!rm -f gp-loc && touch gp-loc\n",
    "!wc -l ../resources/gp_model_0.vnts >> gp-loc\n",
    "!wc -l ../lightweight.jl >> gp-loc\n",
    "!wc -l ../incremental.jl >> gp-loc\n",
    "!wc -l ../handcoded.jl >> gp-loc"
   ]
  }
 ],
 "metadata": {
  "kernelspec": {
   "display_name": "Python 2",
   "language": "python",
   "name": "python2"
  },
  "language_info": {
   "codemirror_mode": {
    "name": "ipython",
    "version": 2
   },
   "file_extension": ".py",
   "mimetype": "text/x-python",
   "name": "python",
   "nbconvert_exporter": "python",
   "pygments_lexer": "ipython2",
   "version": "2.7.12"
  }
 },
 "nbformat": 4,
 "nbformat_minor": 2
}
