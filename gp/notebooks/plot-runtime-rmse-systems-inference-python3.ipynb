{
 "cells": [
  {
   "cell_type": "code",
   "execution_count": 1,
   "metadata": {},
   "outputs": [],
   "source": [
    "%matplotlib inline"
   ]
  },
  {
   "cell_type": "code",
   "execution_count": 2,
   "metadata": {},
   "outputs": [],
   "source": [
    "import matplotlib\n",
    "import matplotlib.pyplot as plt\n",
    "import numpy as np\n",
    "import pandas as pd\n",
    "\n",
    "from matplotlib.ticker import MaxNLocator\n",
    "from scipy.stats.mstats import gmean"
   ]
  },
  {
   "cell_type": "code",
   "execution_count": 3,
   "metadata": {},
   "outputs": [],
   "source": [
    "matplotlib.rcParams['text.usetex'] = True"
   ]
  },
  {
   "cell_type": "code",
   "execution_count": 4,
   "metadata": {},
   "outputs": [],
   "source": [
    "def extract_metric_evolution(path, x_key, y_key):\n",
    "    \"\"\"Extract the series of values from file.\"\"\"\n",
    "    df = pd.read_csv(path)\n",
    "    epochs = sorted(df['epoch'].unique())\n",
    "    particles = sorted(df['particle'].unique())\n",
    "    xs = [df[df['epoch']==epoch][x_key].values for epoch in epochs]\n",
    "    ys = [df[df['epoch']==epoch][y_key].values for epoch in epochs]\n",
    "    assert np.shape(xs) == (len(epochs), len(particles))\n",
    "    assert np.shape(ys) == (len(epochs), len(particles))\n",
    "    return np.asarray(xs), np.asarray(ys)"
   ]
  },
  {
   "cell_type": "code",
   "execution_count": 5,
   "metadata": {},
   "outputs": [],
   "source": [
    "def rescale_linear(xs, yl, yh):\n",
    "    \"\"\"Rescale values linearly between [yl, yh].\"\"\"\n",
    "    xl = min(xs)\n",
    "    xh = max(xs)\n",
    "    slope = float(yh - yl) / (xh - xl)\n",
    "    intercept = yh - xh * slope\n",
    "    return slope* xs + intercept"
   ]
  },
  {
   "cell_type": "code",
   "execution_count": 6,
   "metadata": {},
   "outputs": [],
   "source": [
    "def unscale_linear(xs, yl, yh, xl, xh):\n",
    "    \"\"\"Rescale values linearly between [xl, xh].\"\"\"\n",
    "    slope = float(yh - yl) / (xh - xl)\n",
    "    intercept = yh - xh * slope\n",
    "    return (xs - intercept) / slope"
   ]
  },
  {
   "cell_type": "code",
   "execution_count": 7,
   "metadata": {},
   "outputs": [],
   "source": [
    "def plot_evolution_one(runtimes, metrics, label, color, ax):\n",
    "    runtimes = runtimes[1:]\n",
    "    metrics = metrics[1:]\n",
    "    # Computing metrics to plot.\n",
    "    x_runtime = np.cumsum(np.median(runtimes, axis=1))\n",
    "    y_metric_median = np.median(metrics, axis=1)\n",
    "    y_metric_high = np.percentile(metrics, 75, axis=1)\n",
    "    y_metric_low = np.percentile(metrics, 25, axis=1)\n",
    "    # Plot.\n",
    "    step = 10\n",
    "    ax.errorbar(x_runtime[::step], y_metric_median[::step],\n",
    "        # yerr=[y_metric_median[::step]-y_metric_low[::step], y_metric_high[::step]-y_metric_median[::step]],\n",
    "        linewidth=1, fmt='-.', markersize=5, label=label, color=color)\n",
    "    # ax.plot(x_runtime[::10], y_metric_median[::10],\n",
    "    # linewidth=1, label=label, color=color, marker=None)\n",
    "    ax.set_ylim([0.10, 0.40])\n",
    "    return ax"
   ]
  },
  {
   "cell_type": "markdown",
   "metadata": {},
   "source": [
    "Plot runtime vs. accuracy"
   ]
  },
  {
   "cell_type": "code",
   "execution_count": 8,
   "metadata": {},
   "outputs": [],
   "source": [
    "metric = 'rmse'\n",
    "x_key = 'runtime'"
   ]
  },
  {
   "cell_type": "code",
   "execution_count": 9,
   "metadata": {},
   "outputs": [],
   "source": [
    "paths_system = [\n",
    "    ('Gen (Dynamic + Recurse)',\n",
    "        '../resources/reports/stamp@2019327-134241_shortname@incremental-UB-mansour_ntest@20_iters@50_epochs@400_schedule@constant_seed@628723064.merged.report.csv'),\n",
    "    ('Gen (Dynamic)',\n",
    "        '../resources/reports/stamp@2019327-161013_shortname@lightweight-UB-mansour_ntest@20_iters@50_epochs@400_schedule@constant_seed@1305347891.merged.report.csv'),\n",
    "    ('Julia (Handcoded)',\n",
    "        '../resources/reports/stamp@2019326-173511_shortname@handcoded-rachelUB_ntest@20_iters@50_epochs@400_schedule@constant_seed@773783925.merged.report.csv'),\n",
    "    ('Venture',\n",
    "        '../resources/reports/stamp@20190328-124524_shortname@alec_ntest@20_iters@1000_epochs@20_schedule@constant_seed@1693420445.merged.report.csv')\n",
    "]"
   ]
  },
  {
   "cell_type": "code",
   "execution_count": 10,
   "metadata": {},
   "outputs": [
    {
     "name": "stderr",
     "output_type": "stream",
     "text": [
      "/scratch/fsaad/pldi2019-gen-experiments/venv.3/lib/python3.5/site-packages/matplotlib/figure.py:2369: UserWarning: This figure includes Axes that are not compatible with tight_layout, so results might be incorrect.\n",
      "  warnings.warn(\"This figure includes Axes that are not compatible \"\n"
     ]
    },
    {
     "data": {
      "image/png": "[encoded data removed]",
      "text/plain": [
       "<Figure size 432x216 with 1 Axes>"
      ]
     },
     "metadata": {},
     "output_type": "display_data"
    }
   ],
   "source": [
    "fig, ax = plt.subplots()\n",
    "colors = ['c', 'g', 'k', 'r']\n",
    "for i, (method, path) in enumerate(paths_system):\n",
    "    runtimes, metrics = extract_metric_evolution(path, x_key, metric)\n",
    "    ax = plot_evolution_one(runtimes, metrics, method, colors[i], ax)\n",
    "\n",
    "ax.set_title('Runtime vs. Accuracy on Airline Data (20K MCMC Steps)', fontsize=13)\n",
    "ax.set_ylabel('Mean Prediction Error', fontsize=12)\n",
    "ax.set_xlabel('Runtime (seconds)', fontsize=12)\n",
    "ax.legend(loc='upper right', framealpha=0, labelspacing=.2, handletextpad=.5)\n",
    "# ax.grid(which='both', linewidth=1,  alpha=.2)\n",
    "ax.set_xscale('log')\n",
    "ax.set_ylim([0.10, 0.425])\n",
    "fig.set_facecolor('white')\n",
    "fig.set_tight_layout(True)\n",
    "fig.set_size_inches(6, 3)"
   ]
  },
  {
   "cell_type": "code",
   "execution_count": 11,
   "metadata": {},
   "outputs": [],
   "source": [
    "fig.savefig('airline-gen-handcoded-venturescript-runtime-rmse.pdf')"
   ]
  },
  {
   "cell_type": "markdown",
   "metadata": {},
   "source": [
    "Plot different inference algorithms"
   ]
  },
  {
   "cell_type": "code",
   "execution_count": 12,
   "metadata": {},
   "outputs": [],
   "source": [
    "metric = 'rmse'\n",
    "x_key = 'runtime'"
   ]
  },
  {
   "cell_type": "code",
   "execution_count": 13,
   "metadata": {},
   "outputs": [],
   "source": [
    "paths_inference = [\n",
    "    ('Gen (Dynamic + Unbiased Sampling)',\n",
    "        '../resources/reports/stamp@2019327-161013_shortname@lightweight-UB-mansour_ntest@20_iters@50_epochs@400_schedule@constant_seed@1305347891.merged.report.csv'),\n",
    "    ('Gen (Dynamic + Biased Sampling)',\n",
    "        '../resources/reports/stamp@2019327-131032_shortname@lightweight-BI-mansour_ntest@20_iters@50_epochs@400_schedule@constant_seed@1712523333.merged.report.csv'),\n",
    "    ('Gen (Dynamic + Full Sampling)',\n",
    "        '../resources/reports/stamp@2019327-13026_shortname@lightweight-RT-mansour_ntest@20_iters@50_epochs@400_schedule@constant_seed@2424813171.merged.report.csv'),\n",
    "]"
   ]
  },
  {
   "cell_type": "code",
   "execution_count": 14,
   "metadata": {},
   "outputs": [
    {
     "data": {
      "image/png": "[encoded data removed]",
      "text/plain": [
       "<Figure size 432x288 with 2 Axes>"
      ]
     },
     "metadata": {
      "needs_background": "light"
     },
     "output_type": "display_data"
    }
   ],
   "source": [
    "fig, axes = plt.subplots(ncols=2);"
   ]
  },
  {
   "cell_type": "code",
   "execution_count": 15,
   "metadata": {},
   "outputs": [],
   "source": [
    "# fig, ax = plt.subplots()\n",
    "ax = axes[1]\n",
    "colors = ['c', 'r', 'k']\n",
    "for i, (method, path) in enumerate(paths_inference):\n",
    "    runtimes, metrics = extract_metric_evolution(path, x_key, metric)\n",
    "    ax = plot_evolution_one(runtimes, metrics, method, colors[i], ax)\n",
    "\n",
    "ax.set_title('Runtime vs. Prediction Error (20K MCMC Steps)', fontsize=12)\n",
    "ax.set_ylabel('Prediction Error', fontsize=12)\n",
    "ax.set_xlabel('Runtime (seconds)', fontsize=12)\n",
    "ax.legend(loc='upper right', framealpha=0, labelspacing=.2, handletextpad=.5)\n",
    "ax.set_ylim([0.10, 0.425])\n",
    "fig.set_facecolor('white')\n",
    "# fig.set_tight_layout(True)\n",
    "# fig.set_size_inches(4.5, 2.5)"
   ]
  },
  {
   "cell_type": "raw",
   "metadata": {},
   "source": [
    "fig.savefig('airline-gen-handcoded-venturescript-runtime-rmse.pdf')"
   ]
  },
  {
   "cell_type": "markdown",
   "metadata": {},
   "source": [
    "Plot observed and forecasted data"
   ]
  },
  {
   "cell_type": "code",
   "execution_count": 16,
   "metadata": {},
   "outputs": [],
   "source": [
    "import json"
   ]
  },
  {
   "cell_type": "code",
   "execution_count": 17,
   "metadata": {},
   "outputs": [],
   "source": [
    "fname = '../resources/results/stamp@20181102-155414_shortname@vs-euHdMzVkOW_ntest@20_iters@5_epochs@200_schedule@constant_seed@725158738.json'\n",
    "with open(fname, 'r') as f:\n",
    "    results = json.load(f)"
   ]
  },
  {
   "cell_type": "code",
   "execution_count": 18,
   "metadata": {},
   "outputs": [],
   "source": [
    "predictions = results['statistics'][-1]['predictions_held_out']"
   ]
  },
  {
   "cell_type": "code",
   "execution_count": 19,
   "metadata": {},
   "outputs": [],
   "source": [
    "(x_min, y_min) = (1.949041666666666742e+03, 1.12e+02)\n",
    "(x_max, y_max) = (1.960958333333333258e+03, 4.32e+02)"
   ]
  },
  {
   "cell_type": "code",
   "execution_count": 20,
   "metadata": {},
   "outputs": [],
   "source": [
    "xs_train = unscale_linear(np.array(results['xs_train']), 0, 1, x_min, x_max)\n",
    "ys_train = unscale_linear(np.array(results['ys_train']), -1, 1, y_min, y_max)\n",
    "xs_test = unscale_linear(np.array(results['xs_test']), 0, 1, x_min, x_max)\n",
    "ys_test = unscale_linear(np.array(results['ys_test']), -1, 1, y_min, y_max)\n",
    "predictions = unscale_linear(np.array(predictions), -1, 1, y_min, y_max)"
   ]
  },
  {
   "cell_type": "code",
   "execution_count": 21,
   "metadata": {},
   "outputs": [],
   "source": [
    "ax = axes[0]\n",
    "ax.plot(xs_train, ys_train, marker='.', linestyle='--', color='k', label='Observed Data')\n",
    "for p in predictions:\n",
    "    ax.plot(xs_test, p, linestyle='-', color='g', alpha=.025)\n",
    "ax.plot([], [], color='g', label='Predictions')\n",
    "ax.scatter(xs_test, ys_test, marker='+', color='r', s=30, label='Held-out Data')\n",
    "ax.legend(framealpha=0, loc='upper left')\n",
    "ax.set_xlabel('Year', fontsize=12)\n",
    "ax.set_ylabel('Passenger Volume', fontsize=12)\n",
    "# ax.set_title('Airline Dataset', fontsize=13)\n",
    "ax.set_ylim([100, 500])\n",
    "ax.set_xlim([1947.5, None])\n",
    "ax.set_title('Airline Passenger Observed and Test Data')\n",
    "from matplotlib.ticker import MaxNLocator\n",
    "ax.xaxis.set_major_locator(MaxNLocator(steps=[2], integer=True))"
   ]
  },
  {
   "cell_type": "code",
   "execution_count": 22,
   "metadata": {},
   "outputs": [
    {
     "name": "stderr",
     "output_type": "stream",
     "text": [
      "/scratch/fsaad/pldi2019-gen-experiments/venv.3/lib/python3.5/site-packages/matplotlib/figure.py:2369: UserWarning: This figure includes Axes that are not compatible with tight_layout, so results might be incorrect.\n",
      "  warnings.warn(\"This figure includes Axes that are not compatible \"\n"
     ]
    },
    {
     "data": {
      "image/png": "[encoded data removed]",
      "text/plain": [
       "<Figure size 576x216 with 2 Axes>"
      ]
     },
     "execution_count": 22,
     "metadata": {},
     "output_type": "execute_result"
    }
   ],
   "source": [
    "fig.set_tight_layout(True)\n",
    "fig.set_size_inches(8, 3);\n",
    "fig"
   ]
  },
  {
   "cell_type": "code",
   "execution_count": 23,
   "metadata": {},
   "outputs": [],
   "source": [
    "fig.savefig('airline-data-runtime.pdf')"
   ]
  },
  {
   "cell_type": "markdown",
   "metadata": {},
   "source": [
    "Report runtime statistics"
   ]
  },
  {
   "cell_type": "code",
   "execution_count": 24,
   "metadata": {},
   "outputs": [],
   "source": [
    "def report_runtime(runtimes, method):\n",
    "    runtimes = runtimes[1:]\n",
    "    runtimes_total = np.cumsum(runtimes, axis=0)\n",
    "    median = np.median(runtimes_total, axis=1)[-1]\n",
    "    upper = np.percentile(runtimes_total, 75, axis=1)[-1]\n",
    "    lower = np.percentile(runtimes_total, 25, axis=1)[-1]\n",
    "    IQR = (upper-lower)\n",
    "    ms_per_step = lambda x: x/20000 * 1000\n",
    "    with open('gp-runtime', 'a') as f:\n",
    "        print('%s: %1.2f (+- %1.2f)' % (method, ms_per_step(median), ms_per_step(IQR)), file=f)"
   ]
  },
  {
   "cell_type": "code",
   "execution_count": 25,
   "metadata": {},
   "outputs": [],
   "source": [
    "!rm -f gp-runtime && touch gp-runtime\n",
    "for method, path in paths_system:\n",
    "    runtimes, metrics = extract_metric_evolution(path, 'runtime', metric)\n",
    "    report_runtime(runtimes, method)"
   ]
  },
  {
   "cell_type": "code",
   "execution_count": 26,
   "metadata": {},
   "outputs": [],
   "source": [
    "!rm -f gp-loc && touch gp-loc\n",
    "!wc -l ../resources/gp_model_0.vnts >> gp-loc\n",
    "!wc -l ../lightweight.jl >> gp-loc\n",
    "!wc -l ../incremental.jl >> gp-loc\n",
    "!wc -l ../handcoded.jl >> gp-loc"
   ]
  },
  {
   "cell_type": "code",
   "execution_count": 27,
   "metadata": {},
   "outputs": [
    {
     "name": "stdout",
     "output_type": "stream",
     "text": [
      "60 ../resources/gp_model_0.vnts\r\n",
      "133 ../lightweight.jl\r\n",
      "258 ../incremental.jl\r\n",
      "260 ../handcoded.jl\r\n"
     ]
    }
   ],
   "source": [
    "!cat gp-loc"
   ]
  },
  {
   "cell_type": "code",
   "execution_count": 28,
   "metadata": {},
   "outputs": [
    {
     "name": "stdout",
     "output_type": "stream",
     "text": [
      "Gen (Dynamic + Recurse): 2.57 (+- 0.09)\r\n",
      "Gen (Dynamic): 6.21 (+- 0.94)\r\n",
      "Julia (Handcoded): 4.73 (+- 0.45)\r\n",
      "Venture: 279.73 (+- 30.78)\r\n"
     ]
    }
   ],
   "source": [
    "!cat gp-runtime"
   ]
  }
 ],
 "metadata": {
  "kernelspec": {
   "display_name": "Python 3",
   "language": "python",
   "name": "python3"
  },
  "language_info": {
   "codemirror_mode": {
    "name": "ipython",
    "version": 3
   },
   "file_extension": ".py",
   "mimetype": "text/x-python",
   "name": "python",
   "nbconvert_exporter": "python",
   "pygments_lexer": "ipython3",
   "version": "3.5.2"
  }
 },
 "nbformat": 4,
 "nbformat_minor": 2
}
