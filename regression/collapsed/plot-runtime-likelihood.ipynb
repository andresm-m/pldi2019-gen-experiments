{
 "cells": [
  {
   "cell_type": "code",
   "execution_count": 1,
   "metadata": {},
   "outputs": [],
   "source": [
    "%matplotlib inline"
   ]
  },
  {
   "cell_type": "code",
   "execution_count": 2,
   "metadata": {},
   "outputs": [],
   "source": [
    "path_results = !ls *.logps.csv"
   ]
  },
  {
   "cell_type": "code",
   "execution_count": 3,
   "metadata": {},
   "outputs": [
    {
     "name": "stdout",
     "output_type": "stream",
     "text": [
      "['anglican.results.logps.csv', 'edward_hmc.results.logps.csv', 'stan.results.logps.csv', 'static_mh.results.logps.csv', 'venture_mh.results.logps.csv']\n"
     ]
    }
   ],
   "source": [
    "print path_results"
   ]
  },
  {
   "cell_type": "code",
   "execution_count": 4,
   "metadata": {},
   "outputs": [],
   "source": [
    "import matplotlib.pyplot as plt\n",
    "import numpy as np\n",
    "import pandas as pd"
   ]
  },
  {
   "cell_type": "code",
   "execution_count": 5,
   "metadata": {},
   "outputs": [],
   "source": [
    "from matplotlib.ticker import AutoLocator\n",
    "from matplotlib.ticker import AutoMinorLocator\n",
    "from matplotlib.ticker import FormatStrFormatter\n",
    "from matplotlib.ticker import LogFormatter"
   ]
  },
  {
   "cell_type": "code",
   "execution_count": 6,
   "metadata": {},
   "outputs": [],
   "source": [
    "def summarize_mean_runtime_likelihood(method, df_stats):\n",
    "    \"\"\"Aggregate the runtimes.\"\"\"\n",
    "    # For some reason Edward has very bad runs, exclude them.\n",
    "    factor = 1000\n",
    "    if 'edward' in method:\n",
    "        df_stats = df_stats[df_stats['runtime']<100]\n",
    "        df_stats = df_stats[df_stats['predictive_likelihood']>-10**4]\n",
    "        factor = 1\n",
    "    # Compute and return statistics\n",
    "    unique_iters = sorted(pd.unique(df_stats['num_steps']))\n",
    "    runtimes = np.asarray([\n",
    "        df_stats[df_stats['num_steps']==i]['runtime'].mean()\n",
    "        for i in sorted(unique_iters)\n",
    "    ])\n",
    "    likelihoods = np.asarray([\n",
    "        df_stats[df_stats['num_steps']==i]['predictive_likelihood'].mean()\n",
    "        for i in sorted(unique_iters)\n",
    "    ])\n",
    "    return (factor * runtimes, likelihoods)"
   ]
  },
  {
   "cell_type": "code",
   "execution_count": 7,
   "metadata": {},
   "outputs": [],
   "source": [
    "def load_runtime_likelihood(path_results, cutoff=-1295):\n",
    "    method = path_results.split('.')[0]\n",
    "    df_stats = pd.read_csv(path_results)\n",
    "    runtimes, likelihoods = summarize_mean_runtime_likelihood(method, df_stats)\n",
    "    threshold = runtimes[np.argmax(likelihoods>cutoff)]\n",
    "    return method, runtimes, likelihoods, threshold"
   ]
  },
  {
   "cell_type": "code",
   "execution_count": 8,
   "metadata": {},
   "outputs": [],
   "source": [
    "import matplotlib"
   ]
  },
  {
   "cell_type": "code",
   "execution_count": 9,
   "metadata": {},
   "outputs": [
    {
     "name": "stdout",
     "output_type": "stream",
     "text": [
      "('anglican', 783.2651371049999)\n",
      "('edward_hmc', 76.5083212601511)\n",
      "('stan', 53.37555408477783)\n",
      "('static_mh', 75.29754638671875)\n",
      "('venture_mh', 1297231.6961288)\n"
     ]
    },
    {
     "data": {
      "text/plain": [
       "[]"
      ]
     },
     "execution_count": 9,
     "metadata": {},
     "output_type": "execute_result"
    },
    {
     "data": {
      "image/png": "[encoded data removed]",
      "text/plain": [
       "<Figure size 432x288 with 1 Axes>"
      ]
     },
     "metadata": {
      "needs_background": "light"
     },
     "output_type": "display_data"
    }
   ],
   "source": [
    "fig, ax = plt.subplots()\n",
    "for p in path_results:\n",
    "    method, runtimes, likelihoods, threshold = load_runtime_likelihood(p)\n",
    "    ax.plot(runtimes, likelihoods, label=method)\n",
    "    print (method, threshold)\n",
    "    ax.set_xlabel('Runtime (ms)')\n",
    "ax.set_ylabel('Predictive Likelihood')\n",
    "ax.set_xscale('log')\n",
    "ax.set_yscale('symlog')\n",
    "ax.legend(loc='lower right')\n",
    "ax.yaxis.set_minor_locator(AutoMinorLocator())\n",
    "ax.set_yticklabels([])"
   ]
  },
  {
   "cell_type": "code",
   "execution_count": null,
   "metadata": {},
   "outputs": [],
   "source": []
  }
 ],
 "metadata": {
  "kernelspec": {
   "display_name": "Python 2",
   "language": "python",
   "name": "python2"
  },
  "language_info": {
   "codemirror_mode": {
    "name": "ipython",
    "version": 2
   },
   "file_extension": ".py",
   "mimetype": "text/x-python",
   "name": "python",
   "nbconvert_exporter": "python",
   "pygments_lexer": "ipython2",
   "version": "2.7.12"
  }
 },
 "nbformat": 4,
 "nbformat_minor": 2
}
