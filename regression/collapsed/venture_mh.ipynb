{
 "cells": [
  {
   "cell_type": "code",
   "execution_count": null,
   "metadata": {},
   "outputs": [],
   "source": [
    "%reload_ext iventure.magics"
   ]
  },
  {
   "cell_type": "code",
   "execution_count": null,
   "metadata": {},
   "outputs": [],
   "source": [
    "venture_runtime = %get_ripl\n",
    "venture_runtime.load_plugin('extensions.py')"
   ]
  },
  {
   "cell_type": "code",
   "execution_count": null,
   "metadata": {},
   "outputs": [],
   "source": [
    "from venture.lite.psp import RandomPSP\n",
    "import math\n",
    "\n",
    "HALF_LOG2PI = 0.5 * math.log(2 * math.pi)\n",
    "\n",
    "def logDensityNormal(x, mu, sigma):\n",
    "    deviation = x - mu\n",
    "    return - math.log(sigma) - HALF_LOG2PI - (0.5 * deviation * deviation / (sigma * sigma))    \n",
    "\n",
    "class TwoNormalsOutputPSP(RandomPSP):\n",
    "    \n",
    "    def simulateNumeric(self, params, np_rng):\n",
    "        (mu, prob1, sigma1, sigma2) = params\n",
    "        if np_rng.uniform() < prob1:\n",
    "            sigma = sigma1\n",
    "        else:\n",
    "            sigma = sigma2\n",
    "        return np_rng.normal(loc=mu, scale=sigma)\n",
    "            \n",
    "    def simulate(self, args):\n",
    "        return self.simulateNumeric(args.operandValues(), args.np_prng())\n",
    "    \n",
    "    def logDensityNumeric(self, x, params):\n",
    "        (mu, prob1, sigma1, sigma2) = params\n",
    "        l1 = math.log(prob1) + logDensityNormal(x, mu, sigma1)\n",
    "        l2 = math.log1p(-prob1) + logDensityNormal(x, mu, sigma2)\n",
    "        m = max(l1, l2)\n",
    "        return m + math.log(math.exp(l1 - m) + math.exp(l2 - m))\n",
    "    \n",
    "    def logDensity(self, x, args):\n",
    "        return self.logDensityNumeric(x, args.operandValues())"
   ]
  },
  {
   "cell_type": "code",
   "execution_count": null,
   "metadata": {},
   "outputs": [],
   "source": [
    "from venture.lite.sp_help import typed_nr\n",
    "import venture.lite.types as t\n",
    "venture_runtime.bind_foreign_sp('two_normals', typed_nr(TwoNormalsOutputPSP(),\n",
    "    [t.NumberType(), t.ProbabilityType(), t.PositiveType(), t.PositiveType()], t.NumberType()))"
   ]
  },
  {
   "cell_type": "code",
   "execution_count": null,
   "metadata": {},
   "outputs": [],
   "source": [
    "import pandas as pd"
   ]
  },
  {
   "cell_type": "code",
   "execution_count": null,
   "metadata": {},
   "outputs": [],
   "source": [
    "%%venturescript\n",
    "define sigmoid = (x) -> (exp(x) / (1 + exp(x)));\n",
    "define linear_regression_outliers_program = (xs) ~> { \n",
    "    assume sigmoid = (x) -> (exp(x) / (1 + exp(x)));\n",
    "    assume xs = ${xs};\n",
    "    assume prob_outlier = sigmoid(\n",
    "        normal(0, 2) #logit_prob_outlier\n",
    "    );\n",
    "    assume inlier_log_var ~ normal(0, 1) #inlier_log_var ;\n",
    "    assume outlier_log_var ~ normal(0, 1) #outlier_log_var ;\n",
    "    assume slope ~ normal(0, 2) #slope ;\n",
    "    assume intercept ~ normal(0, 2) #intercept ;\n",
    "    assume line = (x) -> { intercept + slope * x };\n",
    "    assume inlier_std = sqrt(exp(inlier_log_var));\n",
    "    assume outlier_std = sqrt(exp(outlier_log_var));\n",
    "    assume y = mem((i) -> {\n",
    "        y_mean = line(xs[i]);\n",
    "        two_normals(y_mean, prob_outlier, inlier_std, outlier_std)\n",
    "    });\n",
    "};"
   ]
  },
  {
   "cell_type": "code",
   "execution_count": null,
   "metadata": {},
   "outputs": [],
   "source": [
    "%%venturescript\n",
    "define extract_linear_regression_lightweight_trace = (trace) -> {\n",
    "    run_in_trace(trace, sample(dict(\n",
    "        [\"slope\", slope],\n",
    "        [\"intercept\", intercept],         \n",
    "        [\"inlier_log_var\", inlier_log_var],\n",
    "        [\"outlier_log_var\", outlier_log_var],\n",
    "        [\"prob_outlier\", prob_outlier]\n",
    "    )))\n",
    "};"
   ]
  },
  {
   "cell_type": "code",
   "execution_count": null,
   "metadata": {},
   "outputs": [],
   "source": [
    "%%venturescript\n",
    "define make_symmetric_mh_update = (scope, proposal) -> {\n",
    "    mh_correct(\n",
    "        on_subproblem(\n",
    "            scope,\n",
    "            quote(all),\n",
    "            symmetric_local_proposal(proposal)))\n",
    "};"
   ]
  },
  {
   "cell_type": "code",
   "execution_count": null,
   "metadata": {},
   "outputs": [],
   "source": [
    "%%venturescript\n",
    "define rw = (v) -> normal(v, 0.5);\n",
    "define slope_update = make_symmetric_mh_update(quote(slope), rw);\n",
    "define intercept_update = make_symmetric_mh_update(quote(intercept), rw);\n",
    "define inlier_log_var_update = make_symmetric_mh_update(quote(inlier_log_var), rw);\n",
    "define outlier_log_var_update = make_symmetric_mh_update(quote(outlier_log_var), rw);\n",
    "define logit_prob_outlier_update = make_symmetric_mh_update(quote(logit_prob_outlier), rw);"
   ]
  },
  {
   "cell_type": "code",
   "execution_count": null,
   "metadata": {},
   "outputs": [],
   "source": [
    "def load_dataset(fname):\n",
    "    train_df = pd.read_csv(fname)\n",
    "    train_xs = train_df[\"xs\"].tolist()\n",
    "    train_ys = train_df[\"ys\"].tolist()\n",
    "    return [train_xs, train_ys]\n",
    "\n",
    "from venture.lite.sp_help import deterministic_typed\n",
    "import venture.lite.types as t\n",
    "venture_runtime.bind_foreign_inference_sp('load_dataset',\n",
    "    deterministic_typed(\n",
    "        load_dataset,\n",
    "        [t.StringType()], # input type signature\n",
    "        t.HomogeneousListType(t.HomogeneousListType(t.NumberType()))))"
   ]
  },
  {
   "cell_type": "code",
   "execution_count": null,
   "metadata": {},
   "outputs": [],
   "source": [
    "%%venturescript\n",
    "define run_custom_mcmc = (xs, ys, num_iters) -> {\n",
    "    timer = start_timer();\n",
    "    trace = new_trace();\n",
    "    _ = run_in_trace(trace, {\n",
    "        \n",
    "        model_import_foreign(\"two_normals\");\n",
    "        action(print(num_iters));\n",
    "        \n",
    "        // sample from prior\n",
    "        linear_regression_outliers_program(xs);\n",
    "\n",
    "        // observe dataset\n",
    "        for_each_indexed(ys,\n",
    "            (i, yi) -> { observe y(${integer(i)}) = yi; });\n",
    "\n",
    "        // run markov chain\n",
    "        repeat(num_iters, {\n",
    "            slope_update;\n",
    "            intercept_update;\n",
    "            inlier_log_var_update;\n",
    "            outlier_log_var_update;\n",
    "            logit_prob_outlier_update\n",
    "        })\n",
    "    });\n",
    "                 \n",
    "    elapsed_ms = time_elapsed(timer) * 1000;\n",
    "    // return the lightweight trace\n",
    "    dict([\"trace\", extract_linear_regression_lightweight_trace(trace)], [\"elapsed\", elapsed_ms])\n",
    "};"
   ]
  },
  {
   "cell_type": "code",
   "execution_count": null,
   "metadata": {},
   "outputs": [],
   "source": [
    "%%venturescript\n",
    "define do_experiment = () -> {\n",
    "    train_dataset = load_dataset(\"../train.csv\");\n",
    "    xs = train_dataset[0];\n",
    "    ys = train_dataset[1];\n",
    "    num_steps_list = [integer(100)];\n",
    "    num_replicates = 4;\n",
    "    apply(dict, zip(num_steps_list, mapv((num_steps) -> {\n",
    "        parallel_mapv((i) -> {            \n",
    "            run_custom_mcmc(xs, ys, num_steps)\n",
    "        }, arange(num_replicates))\n",
    "    }, num_steps_list)))\n",
    "};"
   ]
  },
  {
   "cell_type": "code",
   "execution_count": null,
   "metadata": {
    "scrolled": false
   },
   "outputs": [],
   "source": [
    "results = %venturescript do_experiment()"
   ]
  },
  {
   "cell_type": "code",
   "execution_count": null,
   "metadata": {},
   "outputs": [],
   "source": [
    "def save_results(results):\n",
    "    slopes = []\n",
    "    intercepts = []\n",
    "    prob_outliers = []\n",
    "    inlier_log_vars = []\n",
    "    outlier_log_vars = []\n",
    "    elapsed = []\n",
    "    num_steps_all = []\n",
    "    for (num_steps, results) in results.iteritems():\n",
    "        for result in results:\n",
    "            num_steps_all.append(num_steps)\n",
    "            trace = result[\"trace\"]\n",
    "            slopes.append(trace[\"slope\"])\n",
    "            intercepts.append(trace[\"intercept\"])\n",
    "            prob_outliers.append(trace[\"prob_outlier\"])\n",
    "            inlier_log_vars.append(trace[\"inlier_log_var\"])\n",
    "            outlier_log_vars.append(trace[\"outlier_log_var\"])\n",
    "            elapsed.append(result[\"elapsed\"]);\n",
    "    df = pd.DataFrame({\n",
    "        \"slope\" : slopes,\n",
    "        \"intercept\" : intercepts,\n",
    "        \"prob_outlier\" : prob_outliers,\n",
    "        \"inlier_log_var\" : inlier_log_vars,\n",
    "        \"outlier_log_var\" : outlier_log_vars,\n",
    "        \"elapsed\" : elapsed,\n",
    "        \"num_steps\" : num_steps_all})\n",
    "    df.to_csv(\"venture.results.csv\")"
   ]
  },
  {
   "cell_type": "code",
   "execution_count": null,
   "metadata": {},
   "outputs": [],
   "source": [
    "save_results(results)"
   ]
  }
 ],
 "metadata": {
  "kernelspec": {
   "display_name": "Python 2",
   "language": "python",
   "name": "python2"
  },
  "language_info": {
   "codemirror_mode": {
    "name": "ipython",
    "version": 2
   },
   "file_extension": ".py",
   "mimetype": "text/x-python",
   "name": "python",
   "nbconvert_exporter": "python",
   "pygments_lexer": "ipython2",
   "version": "2.7.12"
  }
 },
 "nbformat": 4,
 "nbformat_minor": 2
}
