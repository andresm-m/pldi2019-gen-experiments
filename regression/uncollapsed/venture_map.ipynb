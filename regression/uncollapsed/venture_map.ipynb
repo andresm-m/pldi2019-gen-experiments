{
 "cells": [
  {
   "cell_type": "code",
   "execution_count": 1,
   "metadata": {},
   "outputs": [
    {
     "name": "stdout",
     "output_type": "stream",
     "text": [
      "session_id: fsaad@probcomp-1.csail.mit.edu_2018-11-13T14:21:41.162657_5\n",
      "Set seed of a new VentureScript RIPL to 2.00.\n",
      "Loading plugin: extensions.py\n"
     ]
    }
   ],
   "source": [
    "%reload_ext iventure.magics\n",
    "%ripl --seed 2 --plugins extensions.py"
   ]
  },
  {
   "cell_type": "code",
   "execution_count": 2,
   "metadata": {},
   "outputs": [],
   "source": [
    "venture_runtime = %get_ripl"
   ]
  },
  {
   "cell_type": "code",
   "execution_count": 3,
   "metadata": {},
   "outputs": [],
   "source": [
    "import pandas as pd"
   ]
  },
  {
   "cell_type": "code",
   "execution_count": 4,
   "metadata": {},
   "outputs": [],
   "source": [
    "%%venturescript\n",
    "define linear_regression_outliers_program = (xs) ~> { \n",
    "    assume xs = ${xs};\n",
    "    assume prob_outlier = 0.5;\n",
    "    assume inlier_log_var ~ normal(0,2)  #params:1 ;\n",
    "    assume outlier_log_var ~ normal(0,2) #params:2 ;\n",
    "    assume slope ~ normal(0, 2)          #params:3 ;\n",
    "    assume intercept ~ normal(0, 2)      #params:4 ;\n",
    "    assume line = (x) -> { intercept + slope * x };\n",
    "    assume is_outlier = mem((i) ~> {\n",
    "        flip(prob_outlier) #outlier_status:integer(i)\n",
    "    });\n",
    "    assume y = mem((i) ~> {\n",
    "        x = xs[i];\n",
    "        variance = if (is_outlier(i)) { exp(inlier_log_var) } else { exp(outlier_log_var) };\n",
    "        normal(line(x), sqrt(variance))\n",
    "    })\n",
    "};"
   ]
  },
  {
   "cell_type": "code",
   "execution_count": 5,
   "metadata": {},
   "outputs": [],
   "source": [
    "%%venturescript\n",
    "define extract_linear_regression_lightweight_trace = (trace) -> {\n",
    "    run_in_trace(trace, sample(dict(\n",
    "        [\"slope\", slope],\n",
    "        [\"intercept\", intercept],         \n",
    "        [\"inlier_log_var\", inlier_log_var],\n",
    "        [\"outlier_log_var\", outlier_log_var],\n",
    "        [\"prob_outlier\", prob_outlier]\n",
    "    )))\n",
    "};"
   ]
  },
  {
   "cell_type": "code",
   "execution_count": 6,
   "metadata": {},
   "outputs": [],
   "source": [
    "%%venturescript\n",
    "define make_symmetric_mh_update = (scope, proposal) -> {\n",
    "    mh_correct(\n",
    "        on_subproblem(\n",
    "            scope,\n",
    "            quote(all),\n",
    "            symmetric_local_proposal(proposal)))\n",
    "};"
   ]
  },
  {
   "cell_type": "code",
   "execution_count": 7,
   "metadata": {},
   "outputs": [],
   "source": [
    "%%venturescript\n",
    "define outlier_update = (i) -> mh_correct(\n",
    "    on_subproblem(\n",
    "        quote(outlier_status),\n",
    "        integer(i),\n",
    "        symmetric_local_proposal((outlier) -> not(outlier))));"
   ]
  },
  {
   "cell_type": "code",
   "execution_count": 8,
   "metadata": {},
   "outputs": [],
   "source": [
    "def load_dataset(fname):\n",
    "    train_df = pd.read_csv(fname)\n",
    "    train_xs = train_df[\"xs\"].tolist()\n",
    "    train_ys = train_df[\"ys\"].tolist()\n",
    "    return [train_xs, train_ys]\n",
    "\n",
    "from venture.lite.sp_help import deterministic_typed\n",
    "import venture.lite.types as t\n",
    "venture_runtime.bind_foreign_inference_sp('load_dataset',\n",
    "    deterministic_typed(\n",
    "        load_dataset,\n",
    "        [t.StringType()], # input type signature\n",
    "        t.HomogeneousListType(t.HomogeneousListType(t.NumberType()))))"
   ]
  },
  {
   "cell_type": "code",
   "execution_count": 9,
   "metadata": {},
   "outputs": [],
   "source": [
    "%%venturescript\n",
    "define run_custom_mcmc = (xs, ys, num_iters) -> {\n",
    "    timer = start_timer();\n",
    "    trace = new_trace();\n",
    "    _ = run_in_trace(trace, {\n",
    "    \n",
    "        action(print(\"** num_iters:\"));\n",
    "        action(print(num_iters));\n",
    "        \n",
    "        // sample from prior\n",
    "        linear_regression_outliers_program(xs);\n",
    "\n",
    "        // observe dataset\n",
    "        for_each_indexed(ys,\n",
    "            (i, y) -> { observe y(${integer(i)}) = y; });\n",
    "\n",
    "        // run markov chain\n",
    "        repeat(num_iters, {\n",
    "            lbfgs_optimize(minimal_subproblem(/?params/*));\n",
    "            for_each(arange(size(xs)), outlier_update);\n",
    "        })\n",
    "    });\n",
    "                 \n",
    "    elapsed_ms = time_elapsed(timer);\n",
    "    // return the lightweight trace\n",
    "    dict([\"trace\", extract_linear_regression_lightweight_trace(trace)], [\"elapsed\", elapsed_ms])\n",
    "};"
   ]
  },
  {
   "cell_type": "code",
   "execution_count": 10,
   "metadata": {},
   "outputs": [],
   "source": [
    "%%venturescript\n",
    "define do_experiment = () -> {\n",
    "    train_dataset = load_dataset(\"../train.csv\");\n",
    "    xs = train_dataset[0];\n",
    "    ys = train_dataset[1];\n",
    "    num_steps_list = [integer(10)];\n",
    "    num_replicates = 4;\n",
    "    apply(dict, zip(num_steps_list, mapv((num_steps) -> {\n",
    "        parallel_mapv((i) -> {\n",
    "            run_custom_mcmc(xs, ys, num_steps)\n",
    "        }, arange(num_replicates))\n",
    "    }, num_steps_list)))\n",
    "};"
   ]
  },
  {
   "cell_type": "code",
   "execution_count": 11,
   "metadata": {
    "scrolled": false
   },
   "outputs": [
    {
     "name": "stdout",
     "output_type": "stream",
     "text": [
      "** num_iters:\n",
      "10\n",
      "** num_iters:\n",
      "** num_iters:\n",
      "** num_iters:\n",
      "10\n",
      "10\n",
      "10\n"
     ]
    }
   ],
   "source": [
    "results = %venturescript do_experiment()"
   ]
  },
  {
   "cell_type": "code",
   "execution_count": 12,
   "metadata": {},
   "outputs": [],
   "source": [
    "def save_results(results):\n",
    "    slopes = []\n",
    "    intercepts = []\n",
    "    prob_outliers = []\n",
    "    inlier_log_vars = []\n",
    "    outlier_log_vars = []\n",
    "    elapsed = []\n",
    "    num_steps_all = []\n",
    "    for (num_steps, results) in results.iteritems():\n",
    "        for result in results:\n",
    "            num_steps_all.append(num_steps)\n",
    "            trace = result[\"trace\"]\n",
    "            slopes.append(trace[\"slope\"])\n",
    "            intercepts.append(trace[\"intercept\"])\n",
    "            prob_outliers.append(trace[\"prob_outlier\"])\n",
    "            inlier_log_vars.append(trace[\"inlier_log_var\"])\n",
    "            outlier_log_vars.append(trace[\"outlier_log_var\"])\n",
    "            elapsed.append(result[\"elapsed\"]);\n",
    "    df = pd.DataFrame({\n",
    "        \"slope\" : slopes,\n",
    "        \"intercept\" : intercepts,\n",
    "        \"prob_outlier\" : prob_outliers,\n",
    "        \"inlier_log_var\" : inlier_log_vars,\n",
    "        \"outlier_log_var\" : outlier_log_vars,\n",
    "        \"elapsed\" : elapsed,\n",
    "        \"num_steps\" : num_steps_all\n",
    "    })\n",
    "    df.to_csv(\"venture_map.results.csv\")"
   ]
  },
  {
   "cell_type": "code",
   "execution_count": 13,
   "metadata": {},
   "outputs": [],
   "source": [
    "save_results(results)"
   ]
  },
  {
   "cell_type": "code",
   "execution_count": 14,
   "metadata": {},
   "outputs": [
    {
     "name": "stdout",
     "output_type": "stream",
     "text": [
      ",elapsed,inlier_log_var,intercept,num_steps,outlier_log_var,prob_outlier,slope\r\n",
      "0,597.510355949,3.32486978887,1.9906612877,10,-1.36926030655,0.5,-1.00713681416\r\n",
      "1,582.223300934,-1.2245844344,2.00555531362,10,3.35312730604,0.5,-1.00379758199\r\n",
      "2,587.207060099,3.33313491115,2.01840325275,10,-1.24626996078,0.5,-1.01731973846\r\n",
      "3,598.618225098,3.33352879552,2.00644934445,10,-1.32267637257,0.5,-1.01331119676\r\n"
     ]
    }
   ],
   "source": [
    "cat venture_map.results.csv"
   ]
  }
 ],
 "metadata": {
  "kernelspec": {
   "display_name": "Python 2",
   "language": "python",
   "name": "python2"
  },
  "language_info": {
   "codemirror_mode": {
    "name": "ipython",
    "version": 2
   },
   "file_extension": ".py",
   "mimetype": "text/x-python",
   "name": "python",
   "nbconvert_exporter": "python",
   "pygments_lexer": "ipython2",
   "version": "2.7.12"
  }
 },
 "nbformat": 4,
 "nbformat_minor": 2
}
